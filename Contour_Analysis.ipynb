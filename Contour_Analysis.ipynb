{
  "nbformat": 4,
  "nbformat_minor": 0,
  "metadata": {
    "colab": {
      "provenance": []
    },
    "kernelspec": {
      "name": "python3",
      "display_name": "Python 3"
    },
    "language_info": {
      "name": "python"
    }
  },
  "cells": [
    {
      "cell_type": "code",
      "source": [
        "import cv2\n",
        "import numpy as np\n",
        "from google.colab.patches import cv2_imshow"
      ],
      "metadata": {
        "id": "HFGhQePRYzg9"
      },
      "execution_count": null,
      "outputs": []
    },
    {
      "cell_type": "code",
      "source": [
        "\n",
        "# Load the image\n",
        "image = cv2.imread('contours.png')\n",
        "\n",
        "# Convert the image to grayscale\n",
        "gray = cv2.cvtColor(image, cv2.COLOR_BGR2GRAY)\n",
        "\n",
        "# Apply a binary threshold to get a binary image\n",
        "_, binary = cv2.threshold(gray, 127, 255, cv2.THRESH_BINARY)\n",
        "\n",
        "# Find contours in the binary image\n",
        "contours, _ = cv2.findContours(binary, cv2.RETR_TREE, cv2.CHAIN_APPROX_SIMPLE)\n",
        "\n",
        "# Get the image dimensions\n",
        "height, width = binary.shape\n",
        "\n",
        "# Define a minimum area threshold to filter out small contours\n",
        "min_area_threshold = 100\n",
        "\n",
        "# Counter for valid contours\n",
        "valid_contour_index = 1\n",
        "\n",
        "# Loop through each contour and calculate the centroid and area\n",
        "for contour in contours:\n",
        "    # Calculate the area of the contour\n",
        "    area = cv2.contourArea(contour)\n",
        "\n",
        "    # Filter out small contours based on the area threshold(avoiding noise)\n",
        "    if area < min_area_threshold:\n",
        "        continue\n",
        "\n",
        "    # Get the bounding box of the contour\n",
        "    x, y, w, h = cv2.boundingRect(contour)\n",
        "\n",
        "    # Check if the contour is the border of the image\n",
        "    if x == 0 or y == 0 or x + w == width or y + h == height:\n",
        "        continue\n",
        "\n",
        "    # Calculate the moments of the contour\n",
        "    M = cv2.moments(contour)\n",
        "\n",
        "    # Calculate the centroid\n",
        "    if M[\"m00\"] != 0:\n",
        "        cX = int(M[\"m10\"] / M[\"m00\"])\n",
        "        cY = int(M[\"m01\"] / M[\"m00\"])\n",
        "    else:\n",
        "        cX, cY = 0, 0\n",
        "\n",
        "    # Print the centroid and area\n",
        "    print(f\"Contour {valid_contour_index}: Centroid = ({cX}, {cY}), Area = {area}\")\n",
        "\n",
        "    # Increment the valid contour index\n",
        "    valid_contour_index += 1\n",
        "\n",
        "    # Draw the contours and centroids on the image for visualization\n",
        "    cv2.drawContours(image, [contour], -1, (0, 255, 0), 2)\n",
        "    cv2.circle(image, (cX, cY), 5, (255, 0, 0), -1)\n",
        "\n",
        "# Display the image with contours and centroids\n",
        "cv2_imshow(image)\n"
      ],
      "metadata": {
        "colab": {
          "base_uri": "https://localhost:8080/",
          "height": 1000
        },
        "id": "IhMAoYNqVJgP",
        "outputId": "885fd8c9-e443-4181-d50f-57cee89fddda"
      },
      "execution_count": 13,
      "outputs": [
        {
          "output_type": "stream",
          "name": "stdout",
          "text": [
            "Contour 1: Centroid = (249, 1050), Area = 4648.0\n",
            "Contour 2: Centroid = (603, 1023), Area = 11317.0\n",
            "Contour 3: Centroid = (389, 994), Area = 9538.0\n",
            "Contour 4: Centroid = (406, 897), Area = 2321.0\n",
            "Contour 5: Centroid = (194, 883), Area = 15112.0\n",
            "Contour 6: Centroid = (598, 858), Area = 11308.0\n",
            "Contour 7: Centroid = (107, 779), Area = 4649.0\n",
            "Contour 8: Centroid = (356, 735), Area = 2318.0\n",
            "Contour 9: Centroid = (290, 734), Area = 4643.0\n",
            "Contour 10: Centroid = (663, 733), Area = 4645.0\n",
            "Contour 11: Centroid = (477, 757), Area = 8587.5\n",
            "Contour 12: Centroid = (555, 656), Area = 4646.5\n",
            "Contour 13: Centroid = (202, 647), Area = 15108.5\n",
            "Contour 14: Centroid = (427, 595), Area = 8587.5\n",
            "Contour 15: Centroid = (346, 521), Area = 4644.5\n",
            "Contour 16: Centroid = (427, 445), Area = 6422.5\n",
            "Contour 17: Centroid = (143, 443), Area = 4648.0\n",
            "Contour 18: Centroid = (592, 439), Area = 9354.0\n",
            "Contour 19: Centroid = (393, 359), Area = 4647.0\n",
            "Contour 20: Centroid = (161, 355), Area = 15108.5\n",
            "Contour 21: Centroid = (615, 342), Area = 9476.5\n",
            "Contour 22: Centroid = (427, 240), Area = 4648.5\n",
            "Contour 23: Centroid = (237, 237), Area = 4645.5\n",
            "Contour 24: Centroid = (623, 230), Area = 9354.0\n",
            "Contour 25: Centroid = (488, 154), Area = 4639.0\n",
            "Contour 26: Centroid = (169, 118), Area = 15109.0\n"
          ]
        },
        {
          "output_type": "display_data",
          "data": {
            "text/plain": [
              "<PIL.Image.Image image mode=RGB size=794x1123>"
            ],
            "image/png": "[encoded data removed]"
          },
          "metadata": {}
        }
      ]
    }
  ]
}
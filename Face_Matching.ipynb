{
  "nbformat": 4,
  "nbformat_minor": 0,
  "metadata": {
    "colab": {
      "provenance": []
    },
    "kernelspec": {
      "name": "python3",
      "display_name": "Python 3"
    },
    "language_info": {
      "name": "python"
    }
  },
  "cells": [
    {
      "cell_type": "code",
      "source": [
        "!pip install opencv-python opencv-contrib-python numpy scipy rarfile\n"
      ],
      "metadata": {
        "colab": {
          "base_uri": "https://localhost:8080/"
        },
        "id": "q-HUc865keMh",
        "outputId": "938b490b-3dd5-4a19-a615-ec1bfc33c4c5"
      },
      "execution_count": 5,
      "outputs": [
        {
          "output_type": "stream",
          "name": "stdout",
          "text": [
            "Requirement already satisfied: opencv-python in /usr/local/lib/python3.10/dist-packages (4.8.0.76)\n",
            "Requirement already satisfied: opencv-contrib-python in /usr/local/lib/python3.10/dist-packages (4.8.0.76)\n",
            "Requirement already satisfied: numpy in /usr/local/lib/python3.10/dist-packages (1.25.2)\n",
            "Requirement already satisfied: scipy in /usr/local/lib/python3.10/dist-packages (1.11.4)\n",
            "Collecting rarfile\n",
            "  Downloading rarfile-4.2-py3-none-any.whl (29 kB)\n",
            "Installing collected packages: rarfile\n",
            "Successfully installed rarfile-4.2\n"
          ]
        }
      ]
    },
    {
      "cell_type": "markdown",
      "source": [
        "# Importing database folder from Google Drive"
      ],
      "metadata": {
        "id": "fUr3Ih1Nu4BL"
      }
    },
    {
      "cell_type": "code",
      "source": [
        "from google.colab import drive\n",
        "drive.mount('/content/drive')\n",
        "import rarfile\n",
        "import os\n",
        "\n",
        "rar_path = '/content/drive/MyDrive/aDatabase/s1.rar'\n",
        "extract_path = '/content/images'"
      ],
      "metadata": {
        "colab": {
          "base_uri": "https://localhost:8080/"
        },
        "id": "Cfa2jOTakhND",
        "outputId": "a3859c63-654b-4aed-cc58-1c076b8cd962"
      },
      "execution_count": 23,
      "outputs": [
        {
          "output_type": "stream",
          "name": "stdout",
          "text": [
            "Drive already mounted at /content/drive; to attempt to forcibly remount, call drive.mount(\"/content/drive\", force_remount=True).\n"
          ]
        }
      ]
    },
    {
      "cell_type": "code",
      "source": [
        "with rarfile.RarFile(rar_path) as rf:\n",
        "    rf.extractall(extract_path)"
      ],
      "metadata": {
        "id": "xugFg6f_lJLE"
      },
      "execution_count": 24,
      "outputs": []
    },
    {
      "cell_type": "markdown",
      "source": [
        "# Load images from the database folder"
      ],
      "metadata": {
        "id": "EBnFKCyHsct8"
      }
    },
    {
      "cell_type": "code",
      "source": [
        "import cv2\n",
        "import numpy as np\n",
        "import os\n",
        "# Function to load images from a folder\n",
        "def load_images_from_folder(folder):\n",
        "    images = {}\n",
        "    for filename in os.listdir(folder):\n",
        "        if filename.endswith(\".pgm\"):  # Check if the file is a .pgm image\n",
        "            img = cv2.imread(os.path.join(folder, filename), cv2.IMREAD_GRAYSCALE) # Read image in grayscale\n",
        "            if img is not None:  # If the image is successfully loaded\n",
        "                images[filename] = img\n",
        "    return images\n"
      ],
      "metadata": {
        "id": "uSDqByiUlVhK"
      },
      "execution_count": 25,
      "outputs": []
    },
    {
      "cell_type": "code",
      "source": [
        "# Load images from the extracted folder\n",
        "image_folder = extract_path\n",
        "images = load_images_from_folder(image_folder)"
      ],
      "metadata": {
        "id": "3X4SqIuUJ27D"
      },
      "execution_count": 28,
      "outputs": []
    },
    {
      "cell_type": "markdown",
      "source": [
        "# Face recognising LBPH algorithm:\n",
        "LBPH is a popular algorithm for face recognition because it is simple and efficient. It works by:\n",
        "\n",
        "Dividing the face image into several small regions.\n",
        "Computing Local Binary Patterns (LBP) histograms for each region.\n",
        "Concatenating these histograms into a single feature vector.\n",
        "Comparing the feature vectors of different faces using a distance metric to determine similarity.\n"
      ],
      "metadata": {
        "id": "FVIXtYYmsm9V"
      }
    },
    {
      "cell_type": "code",
      "source": [
        "# Initialize the face recognizer\n",
        "face_recognizer = cv2.face.LBPHFaceRecognizer_create()\n",
        "\n",
        "# Prepare training data\n",
        "labels = []\n",
        "training_images = []\n",
        "label_dict = {}\n",
        "# Loop over the images and prepare the data\n",
        "for i, (filename, image) in enumerate(images.items()):\n",
        "    labels.append(i)  # Append a label (index)\n",
        "    training_images.append(image)  # Append the image\n",
        "    label_dict[i] = filename  # Map the label to the filename\n",
        "\n",
        "# Train the face recognizer\n",
        "face_recognizer.train(training_images, np.array(labels))\n",
        "\n",
        "# Function to match a reference face with the trained model\n",
        "def match_face(reference_image, face_recognizer, label_dict):\n",
        "    label, confidence = face_recognizer.predict(reference_image) # Predict the label and confidence\n",
        "    return label_dict[label], confidence"
      ],
      "metadata": {
        "id": "NOFnHLLzlb_x"
      },
      "execution_count": 26,
      "outputs": []
    },
    {
      "cell_type": "markdown",
      "source": [
        "# Comparing with reference image"
      ],
      "metadata": {
        "id": "dfKAuMjFs3Mg"
      }
    },
    {
      "cell_type": "code",
      "source": [
        "reference_image_path = '/content/drive/MyDrive/aDatabase/Kamalesh.pgm'\n",
        "reference_image = cv2.imread(reference_image_path, cv2.IMREAD_GRAYSCALE) # Load the reference image in grayscale\n",
        "\n",
        "# Check if the reference image is loaded successfully\n",
        "if reference_image is None:\n",
        "    print(f'Could not load reference image from {reference_image_path}')\n",
        "else:\n",
        "    matched_image_name, confidence = match_face(reference_image, face_recognizer, label_dict)  # Match the reference face\n",
        "    print(f'Matched Image: {matched_image_name} with confidence: {confidence}')  # Print the result\n",
        "#less confidence value means more closely matched"
      ],
      "metadata": {
        "colab": {
          "base_uri": "https://localhost:8080/"
        },
        "id": "GsL17BRNlgMf",
        "outputId": "24c5a525-9163-4ef6-a6c3-25d3b517d655"
      },
      "execution_count": 32,
      "outputs": [
        {
          "output_type": "stream",
          "name": "stdout",
          "text": [
            "Matched Image: me.pgm with confidence: 30.29846406670545\n"
          ]
        }
      ]
    }
  ]
}